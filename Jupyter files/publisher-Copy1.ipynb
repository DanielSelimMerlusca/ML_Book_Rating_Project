{
 "cells": [
  {
   "cell_type": "code",
   "execution_count": 1,
   "id": "a5b1036b",
   "metadata": {},
   "outputs": [],
   "source": [
    "import numpy as np\n",
    "import pandas as pd\n",
    "import matplotlib.pyplot as plt\n",
    "import seaborn as sns"
   ]
  },
  {
   "cell_type": "code",
   "execution_count": 14,
   "id": "025c0fa6",
   "metadata": {},
   "outputs": [],
   "source": [
    "df = pd.read_excel(\"C:/Users/Josiah/Desktop/Python Project/Book1.xlsx\")\n"
   ]
  },
  {
   "cell_type": "code",
   "execution_count": 15,
   "id": "2c4bdaf5",
   "metadata": {},
   "outputs": [
    {
     "data": {
      "text/html": [
       "<div>\n",
       "<style scoped>\n",
       "    .dataframe tbody tr th:only-of-type {\n",
       "        vertical-align: middle;\n",
       "    }\n",
       "\n",
       "    .dataframe tbody tr th {\n",
       "        vertical-align: top;\n",
       "    }\n",
       "\n",
       "    .dataframe thead th {\n",
       "        text-align: right;\n",
       "    }\n",
       "</style>\n",
       "<table border=\"1\" class=\"dataframe\">\n",
       "  <thead>\n",
       "    <tr style=\"text-align: right;\">\n",
       "      <th></th>\n",
       "      <th>authors</th>\n",
       "      <th>average_rating</th>\n",
       "      <th>isbn13</th>\n",
       "      <th>language_code</th>\n",
       "      <th>num_page</th>\n",
       "      <th>ratings_count</th>\n",
       "      <th>text_reviews_count</th>\n",
       "      <th>publication_date</th>\n",
       "      <th>Publisher</th>\n",
       "      <th>Unnamed: 9</th>\n",
       "      <th>Unnamed: 10</th>\n",
       "      <th>Unnamed: 11</th>\n",
       "      <th>Unnamed: 12</th>\n",
       "      <th>Unnamed: 13</th>\n",
       "      <th>Unnamed: 14</th>\n",
       "      <th>Unnamed: 15</th>\n",
       "    </tr>\n",
       "  </thead>\n",
       "  <tbody>\n",
       "    <tr>\n",
       "      <th>0</th>\n",
       "      <td>Sam Bass Warner</td>\n",
       "      <td>3.58</td>\n",
       "      <td>9780674842113</td>\n",
       "      <td>en-US</td>\n",
       "      <td>236</td>\n",
       "      <td>61</td>\n",
       "      <td>6</td>\n",
       "      <td>38097</td>\n",
       "      <td>Harvard University Press</td>\n",
       "      <td>NaN</td>\n",
       "      <td>NaN</td>\n",
       "      <td>NaN</td>\n",
       "      <td>NaN</td>\n",
       "      <td>NaN</td>\n",
       "      <td>NaN</td>\n",
       "      <td>NaN</td>\n",
       "    </tr>\n",
       "    <tr>\n",
       "      <th>1</th>\n",
       "      <td>David E. Smith (Turgon of TheOneRing.net</td>\n",
       "      <td>3.58</td>\n",
       "      <td>9781593600112</td>\n",
       "      <td>eng</td>\n",
       "      <td>400</td>\n",
       "      <td>26</td>\n",
       "      <td>4</td>\n",
       "      <td>38083</td>\n",
       "      <td>Cold Spring Press</td>\n",
       "      <td>Not Found</td>\n",
       "      <td>NaN</td>\n",
       "      <td>NaN</td>\n",
       "      <td>NaN</td>\n",
       "      <td>Not Found</td>\n",
       "      <td>NaN</td>\n",
       "      <td>NaN</td>\n",
       "    </tr>\n",
       "    <tr>\n",
       "      <th>2</th>\n",
       "      <td>James Wesley</td>\n",
       "      <td>3.63</td>\n",
       "      <td>9781563841552</td>\n",
       "      <td>eng</td>\n",
       "      <td>342</td>\n",
       "      <td>38</td>\n",
       "      <td>4</td>\n",
       "      <td>36175</td>\n",
       "      <td>Huntington House Publishers</td>\n",
       "      <td>Not Found</td>\n",
       "      <td>NaN</td>\n",
       "      <td>NaN</td>\n",
       "      <td>NaN</td>\n",
       "      <td>Not Found</td>\n",
       "      <td>NaN</td>\n",
       "      <td>NaN</td>\n",
       "    </tr>\n",
       "    <tr>\n",
       "      <th>3</th>\n",
       "      <td>Robert M. Pirsig</td>\n",
       "      <td>3.58</td>\n",
       "      <td>9781403356208</td>\n",
       "      <td>en-GB</td>\n",
       "      <td>600</td>\n",
       "      <td>54</td>\n",
       "      <td>5</td>\n",
       "      <td>37635</td>\n",
       "      <td>1st Book Library</td>\n",
       "      <td>Not Found</td>\n",
       "      <td>NaN</td>\n",
       "      <td>NaN</td>\n",
       "      <td>NaN</td>\n",
       "      <td>Not Found</td>\n",
       "      <td>NaN</td>\n",
       "      <td>Robert M. Pirsig</td>\n",
       "    </tr>\n",
       "    <tr>\n",
       "      <th>4</th>\n",
       "      <td>George Orwell</td>\n",
       "      <td>4.18</td>\n",
       "      <td>9781421808321</td>\n",
       "      <td>eng</td>\n",
       "      <td>387</td>\n",
       "      <td>215</td>\n",
       "      <td>17</td>\n",
       "      <td>38534</td>\n",
       "      <td>1st World Library</td>\n",
       "      <td>Not Found</td>\n",
       "      <td>NaN</td>\n",
       "      <td>NaN</td>\n",
       "      <td>NaN</td>\n",
       "      <td>Not Found</td>\n",
       "      <td>NaN</td>\n",
       "      <td>NaN</td>\n",
       "    </tr>\n",
       "    <tr>\n",
       "      <th>5</th>\n",
       "      <td>Elizabeth  George</td>\n",
       "      <td>4.10</td>\n",
       "      <td>9780553575101</td>\n",
       "      <td>eng</td>\n",
       "      <td>718</td>\n",
       "      <td>10608</td>\n",
       "      <td>295</td>\n",
       "      <td>36831</td>\n",
       "      <td>Bantam Books</td>\n",
       "      <td>Not Found</td>\n",
       "      <td>NaN</td>\n",
       "      <td>NaN</td>\n",
       "      <td>NaN</td>\n",
       "      <td>Not Found</td>\n",
       "      <td>NaN</td>\n",
       "      <td>NaN</td>\n",
       "    </tr>\n",
       "    <tr>\n",
       "      <th>6</th>\n",
       "      <td>Terry Deary</td>\n",
       "      <td>4.40</td>\n",
       "      <td>9780713659894</td>\n",
       "      <td>eng</td>\n",
       "      <td>62</td>\n",
       "      <td>5</td>\n",
       "      <td>0</td>\n",
       "      <td>37195</td>\n",
       "      <td>A &amp; C Black</td>\n",
       "      <td>Not Found</td>\n",
       "      <td>NaN</td>\n",
       "      <td>A &amp; C Black</td>\n",
       "      <td>NaN</td>\n",
       "      <td>Not Found</td>\n",
       "      <td>NaN</td>\n",
       "      <td>NaN</td>\n",
       "    </tr>\n",
       "    <tr>\n",
       "      <th>7</th>\n",
       "      <td>Virginia Woolf</td>\n",
       "      <td>4.07</td>\n",
       "      <td>9780156028066</td>\n",
       "      <td>eng</td>\n",
       "      <td>216</td>\n",
       "      <td>244</td>\n",
       "      <td>13</td>\n",
       "      <td>37711</td>\n",
       "      <td>A Harvest Book</td>\n",
       "      <td>Not Found</td>\n",
       "      <td>NaN</td>\n",
       "      <td>NaN</td>\n",
       "      <td>A Harvest Book</td>\n",
       "      <td>Not Found</td>\n",
       "      <td>NaN</td>\n",
       "      <td>Virginia Woolf</td>\n",
       "    </tr>\n",
       "    <tr>\n",
       "      <th>8</th>\n",
       "      <td>Philip Dutre</td>\n",
       "      <td>4.50</td>\n",
       "      <td>9781568813073</td>\n",
       "      <td>eng</td>\n",
       "      <td>366</td>\n",
       "      <td>17</td>\n",
       "      <td>2</td>\n",
       "      <td>38959</td>\n",
       "      <td>A K PETERS</td>\n",
       "      <td>Not Found</td>\n",
       "      <td>NaN</td>\n",
       "      <td>NaN</td>\n",
       "      <td>NaN</td>\n",
       "      <td>Not Found</td>\n",
       "      <td>NaN</td>\n",
       "      <td>NaN</td>\n",
       "    </tr>\n",
       "    <tr>\n",
       "      <th>9</th>\n",
       "      <td>Hiromu Arakawa</td>\n",
       "      <td>4.50</td>\n",
       "      <td>9784757506206</td>\n",
       "      <td>jpn</td>\n",
       "      <td>180</td>\n",
       "      <td>56</td>\n",
       "      <td>10</td>\n",
       "      <td>37276</td>\n",
       "      <td>ã‚¬ãƒ³ã‚¬ãƒ³ã‚³ãƒŸãƒƒã‚¯ã‚¹</td>\n",
       "      <td>Not Found</td>\n",
       "      <td>NaN</td>\n",
       "      <td>NaN</td>\n",
       "      <td>NaN</td>\n",
       "      <td>Not Found</td>\n",
       "      <td>NaN</td>\n",
       "      <td>NaN</td>\n",
       "    </tr>\n",
       "  </tbody>\n",
       "</table>\n",
       "</div>"
      ],
      "text/plain": [
       "                                    authors  average_rating         isbn13  \\\n",
       "0                           Sam Bass Warner            3.58  9780674842113   \n",
       "1  David E. Smith (Turgon of TheOneRing.net            3.58  9781593600112   \n",
       "2                              James Wesley            3.63  9781563841552   \n",
       "3                          Robert M. Pirsig            3.58  9781403356208   \n",
       "4                             George Orwell            4.18  9781421808321   \n",
       "5                         Elizabeth  George            4.10  9780553575101   \n",
       "6                               Terry Deary            4.40  9780713659894   \n",
       "7                            Virginia Woolf            4.07  9780156028066   \n",
       "8                              Philip Dutre            4.50  9781568813073   \n",
       "9                            Hiromu Arakawa            4.50  9784757506206   \n",
       "\n",
       "  language_code  num_page  ratings_count  text_reviews_count  \\\n",
       "0         en-US       236             61                   6   \n",
       "1           eng       400             26                   4   \n",
       "2           eng       342             38                   4   \n",
       "3         en-GB       600             54                   5   \n",
       "4           eng       387            215                  17   \n",
       "5           eng       718          10608                 295   \n",
       "6           eng        62              5                   0   \n",
       "7           eng       216            244                  13   \n",
       "8           eng       366             17                   2   \n",
       "9           jpn       180             56                  10   \n",
       "\n",
       "   publication_date                    Publisher Unnamed: 9  Unnamed: 10  \\\n",
       "0             38097     Harvard University Press        NaN          NaN   \n",
       "1             38083            Cold Spring Press  Not Found          NaN   \n",
       "2             36175  Huntington House Publishers  Not Found          NaN   \n",
       "3             37635             1st Book Library  Not Found          NaN   \n",
       "4             38534            1st World Library  Not Found          NaN   \n",
       "5             36831                 Bantam Books  Not Found          NaN   \n",
       "6             37195                  A & C Black  Not Found          NaN   \n",
       "7             37711               A Harvest Book  Not Found          NaN   \n",
       "8             38959                   A K PETERS  Not Found          NaN   \n",
       "9             37276  ã‚¬ãƒ³ã‚¬ãƒ³ã‚³ãƒŸãƒƒã‚¯ã‚¹  Not Found          NaN   \n",
       "\n",
       "   Unnamed: 11     Unnamed: 12 Unnamed: 13  Unnamed: 14       Unnamed: 15  \n",
       "0          NaN             NaN         NaN          NaN               NaN  \n",
       "1          NaN             NaN   Not Found          NaN               NaN  \n",
       "2          NaN             NaN   Not Found          NaN               NaN  \n",
       "3          NaN             NaN   Not Found          NaN  Robert M. Pirsig  \n",
       "4          NaN             NaN   Not Found          NaN               NaN  \n",
       "5          NaN             NaN   Not Found          NaN               NaN  \n",
       "6  A & C Black             NaN   Not Found          NaN               NaN  \n",
       "7          NaN  A Harvest Book   Not Found          NaN    Virginia Woolf  \n",
       "8          NaN             NaN   Not Found          NaN               NaN  \n",
       "9          NaN             NaN   Not Found          NaN               NaN  "
      ]
     },
     "execution_count": 15,
     "metadata": {},
     "output_type": "execute_result"
    }
   ],
   "source": [
    "df.head(10)"
   ]
  },
  {
   "cell_type": "code",
   "execution_count": 16,
   "id": "14f4c075",
   "metadata": {},
   "outputs": [],
   "source": [
    "df = df.drop(columns=[\"Unnamed: 9\", \"Unnamed: 10\", \"Unnamed: 11\", \"Unnamed: 12\", \"Unnamed: 13\", \"Unnamed: 14\", \"Unnamed: 15\"])\n"
   ]
  },
  {
   "cell_type": "code",
   "execution_count": 17,
   "id": "9ebdab2f",
   "metadata": {},
   "outputs": [
    {
     "data": {
      "text/html": [
       "<div>\n",
       "<style scoped>\n",
       "    .dataframe tbody tr th:only-of-type {\n",
       "        vertical-align: middle;\n",
       "    }\n",
       "\n",
       "    .dataframe tbody tr th {\n",
       "        vertical-align: top;\n",
       "    }\n",
       "\n",
       "    .dataframe thead th {\n",
       "        text-align: right;\n",
       "    }\n",
       "</style>\n",
       "<table border=\"1\" class=\"dataframe\">\n",
       "  <thead>\n",
       "    <tr style=\"text-align: right;\">\n",
       "      <th></th>\n",
       "      <th>authors</th>\n",
       "      <th>average_rating</th>\n",
       "      <th>isbn13</th>\n",
       "      <th>language_code</th>\n",
       "      <th>num_page</th>\n",
       "      <th>ratings_count</th>\n",
       "      <th>text_reviews_count</th>\n",
       "      <th>publication_date</th>\n",
       "      <th>Publisher</th>\n",
       "    </tr>\n",
       "  </thead>\n",
       "  <tbody>\n",
       "    <tr>\n",
       "      <th>11115</th>\n",
       "      <td>Terry Pratchett</td>\n",
       "      <td>3.97</td>\n",
       "      <td>9780061020704</td>\n",
       "      <td>eng</td>\n",
       "      <td>277</td>\n",
       "      <td>91479</td>\n",
       "      <td>2031</td>\n",
       "      <td>36558</td>\n",
       "      <td>HarperTorch</td>\n",
       "    </tr>\n",
       "    <tr>\n",
       "      <th>11116</th>\n",
       "      <td>Terry Pratchett</td>\n",
       "      <td>4.03</td>\n",
       "      <td>9780060855901</td>\n",
       "      <td>eng</td>\n",
       "      <td>228</td>\n",
       "      <td>110062</td>\n",
       "      <td>2261</td>\n",
       "      <td>38608</td>\n",
       "      <td>Harper Perennial</td>\n",
       "    </tr>\n",
       "    <tr>\n",
       "      <th>11117</th>\n",
       "      <td>Terry Pratchett</td>\n",
       "      <td>3.94</td>\n",
       "      <td>9780552152945</td>\n",
       "      <td>eng</td>\n",
       "      <td>396</td>\n",
       "      <td>52713</td>\n",
       "      <td>817</td>\n",
       "      <td>38443</td>\n",
       "      <td>Corgi</td>\n",
       "    </tr>\n",
       "    <tr>\n",
       "      <th>11118</th>\n",
       "      <td>Terry Pratchett</td>\n",
       "      <td>4.28</td>\n",
       "      <td>9780552152952</td>\n",
       "      <td>eng</td>\n",
       "      <td>352</td>\n",
       "      <td>63287</td>\n",
       "      <td>1445</td>\n",
       "      <td>38443</td>\n",
       "      <td>Corgi</td>\n",
       "    </tr>\n",
       "    <tr>\n",
       "      <th>11119</th>\n",
       "      <td>Terry Pratchett</td>\n",
       "      <td>4.17</td>\n",
       "      <td>9780552153157</td>\n",
       "      <td>eng</td>\n",
       "      <td>400</td>\n",
       "      <td>53721</td>\n",
       "      <td>814</td>\n",
       "      <td>38565</td>\n",
       "      <td>Corgi</td>\n",
       "    </tr>\n",
       "    <tr>\n",
       "      <th>11120</th>\n",
       "      <td>Terry Pratchett</td>\n",
       "      <td>4.23</td>\n",
       "      <td>9780552154284</td>\n",
       "      <td>eng</td>\n",
       "      <td>432</td>\n",
       "      <td>60162</td>\n",
       "      <td>1373</td>\n",
       "      <td>38992</td>\n",
       "      <td>Corgi</td>\n",
       "    </tr>\n",
       "    <tr>\n",
       "      <th>11121</th>\n",
       "      <td>Terry Pratchett</td>\n",
       "      <td>4.14</td>\n",
       "      <td>9780061051586</td>\n",
       "      <td>eng</td>\n",
       "      <td>296</td>\n",
       "      <td>41899</td>\n",
       "      <td>746</td>\n",
       "      <td>36411</td>\n",
       "      <td>Harper Voyager</td>\n",
       "    </tr>\n",
       "    <tr>\n",
       "      <th>11122</th>\n",
       "      <td>Sarah Fielding/Candace Ward</td>\n",
       "      <td>2.63</td>\n",
       "      <td>9781551114125</td>\n",
       "      <td>eng</td>\n",
       "      <td>242</td>\n",
       "      <td>132</td>\n",
       "      <td>18</td>\n",
       "      <td>38621</td>\n",
       "      <td>Broadview Press Inc</td>\n",
       "    </tr>\n",
       "    <tr>\n",
       "      <th>11123</th>\n",
       "      <td>Sherrilyn Kenyon/L.A. Banks/Susan Squires/Rond...</td>\n",
       "      <td>4.06</td>\n",
       "      <td>9780312349295</td>\n",
       "      <td>eng</td>\n",
       "      <td>373</td>\n",
       "      <td>7959</td>\n",
       "      <td>200</td>\n",
       "      <td>38993</td>\n",
       "      <td>St. Martin's Press</td>\n",
       "    </tr>\n",
       "    <tr>\n",
       "      <th>11124</th>\n",
       "      <td>Leonardo da Vinci/Martin Kemp</td>\n",
       "      <td>4.17</td>\n",
       "      <td>9780300090956</td>\n",
       "      <td>eng</td>\n",
       "      <td>336</td>\n",
       "      <td>120</td>\n",
       "      <td>4</td>\n",
       "      <td>37114</td>\n",
       "      <td>Yale University Press</td>\n",
       "    </tr>\n",
       "  </tbody>\n",
       "</table>\n",
       "</div>"
      ],
      "text/plain": [
       "                                                 authors  average_rating  \\\n",
       "11115                                    Terry Pratchett            3.97   \n",
       "11116                                    Terry Pratchett            4.03   \n",
       "11117                                    Terry Pratchett            3.94   \n",
       "11118                                    Terry Pratchett            4.28   \n",
       "11119                                    Terry Pratchett            4.17   \n",
       "11120                                    Terry Pratchett            4.23   \n",
       "11121                                    Terry Pratchett            4.14   \n",
       "11122                        Sarah Fielding/Candace Ward            2.63   \n",
       "11123  Sherrilyn Kenyon/L.A. Banks/Susan Squires/Rond...            4.06   \n",
       "11124                      Leonardo da Vinci/Martin Kemp            4.17   \n",
       "\n",
       "              isbn13 language_code  num_page  ratings_count  \\\n",
       "11115  9780061020704           eng       277          91479   \n",
       "11116  9780060855901           eng       228         110062   \n",
       "11117  9780552152945           eng       396          52713   \n",
       "11118  9780552152952           eng       352          63287   \n",
       "11119  9780552153157           eng       400          53721   \n",
       "11120  9780552154284           eng       432          60162   \n",
       "11121  9780061051586           eng       296          41899   \n",
       "11122  9781551114125           eng       242            132   \n",
       "11123  9780312349295           eng       373           7959   \n",
       "11124  9780300090956           eng       336            120   \n",
       "\n",
       "       text_reviews_count  publication_date              Publisher  \n",
       "11115                2031             36558            HarperTorch  \n",
       "11116                2261             38608       Harper Perennial  \n",
       "11117                 817             38443                  Corgi  \n",
       "11118                1445             38443                  Corgi  \n",
       "11119                 814             38565                  Corgi  \n",
       "11120                1373             38992                  Corgi  \n",
       "11121                 746             36411         Harper Voyager  \n",
       "11122                  18             38621    Broadview Press Inc  \n",
       "11123                 200             38993     St. Martin's Press  \n",
       "11124                   4             37114  Yale University Press  "
      ]
     },
     "execution_count": 17,
     "metadata": {},
     "output_type": "execute_result"
    }
   ],
   "source": [
    "df.tail(10)"
   ]
  },
  {
   "cell_type": "code",
   "execution_count": 18,
   "id": "e2de20e7",
   "metadata": {},
   "outputs": [
    {
     "data": {
      "text/html": [
       "<div>\n",
       "<style scoped>\n",
       "    .dataframe tbody tr th:only-of-type {\n",
       "        vertical-align: middle;\n",
       "    }\n",
       "\n",
       "    .dataframe tbody tr th {\n",
       "        vertical-align: top;\n",
       "    }\n",
       "\n",
       "    .dataframe thead th {\n",
       "        text-align: right;\n",
       "    }\n",
       "</style>\n",
       "<table border=\"1\" class=\"dataframe\">\n",
       "  <thead>\n",
       "    <tr style=\"text-align: right;\">\n",
       "      <th></th>\n",
       "      <th>average_rating</th>\n",
       "      <th>isbn13</th>\n",
       "      <th>num_page</th>\n",
       "      <th>ratings_count</th>\n",
       "      <th>text_reviews_count</th>\n",
       "      <th>publication_date</th>\n",
       "    </tr>\n",
       "  </thead>\n",
       "  <tbody>\n",
       "    <tr>\n",
       "      <th>count</th>\n",
       "      <td>11125.000000</td>\n",
       "      <td>1.112500e+04</td>\n",
       "      <td>11125.000000</td>\n",
       "      <td>1.112500e+04</td>\n",
       "      <td>11125.000000</td>\n",
       "      <td>11125.000000</td>\n",
       "    </tr>\n",
       "    <tr>\n",
       "      <th>mean</th>\n",
       "      <td>3.933682</td>\n",
       "      <td>9.759884e+12</td>\n",
       "      <td>336.371955</td>\n",
       "      <td>1.793963e+04</td>\n",
       "      <td>541.951371</td>\n",
       "      <td>36768.886472</td>\n",
       "    </tr>\n",
       "    <tr>\n",
       "      <th>std</th>\n",
       "      <td>0.352447</td>\n",
       "      <td>4.429361e+11</td>\n",
       "      <td>241.137539</td>\n",
       "      <td>1.124893e+05</td>\n",
       "      <td>2576.398051</td>\n",
       "      <td>2998.757830</td>\n",
       "    </tr>\n",
       "    <tr>\n",
       "      <th>min</th>\n",
       "      <td>0.000000</td>\n",
       "      <td>8.987060e+09</td>\n",
       "      <td>0.000000</td>\n",
       "      <td>0.000000e+00</td>\n",
       "      <td>0.000000</td>\n",
       "      <td>4750.000000</td>\n",
       "    </tr>\n",
       "    <tr>\n",
       "      <th>25%</th>\n",
       "      <td>3.770000</td>\n",
       "      <td>9.780345e+12</td>\n",
       "      <td>192.000000</td>\n",
       "      <td>1.040000e+02</td>\n",
       "      <td>9.000000</td>\n",
       "      <td>35992.000000</td>\n",
       "    </tr>\n",
       "    <tr>\n",
       "      <th>50%</th>\n",
       "      <td>3.960000</td>\n",
       "      <td>9.780586e+12</td>\n",
       "      <td>299.000000</td>\n",
       "      <td>7.450000e+02</td>\n",
       "      <td>47.000000</td>\n",
       "      <td>37681.000000</td>\n",
       "    </tr>\n",
       "    <tr>\n",
       "      <th>75%</th>\n",
       "      <td>4.140000</td>\n",
       "      <td>9.780872e+12</td>\n",
       "      <td>416.000000</td>\n",
       "      <td>4.996000e+03</td>\n",
       "      <td>238.000000</td>\n",
       "      <td>38625.000000</td>\n",
       "    </tr>\n",
       "    <tr>\n",
       "      <th>max</th>\n",
       "      <td>5.000000</td>\n",
       "      <td>9.790008e+12</td>\n",
       "      <td>6576.000000</td>\n",
       "      <td>4.597666e+06</td>\n",
       "      <td>94265.000000</td>\n",
       "      <td>43921.000000</td>\n",
       "    </tr>\n",
       "  </tbody>\n",
       "</table>\n",
       "</div>"
      ],
      "text/plain": [
       "       average_rating        isbn13      num_page  ratings_count  \\\n",
       "count    11125.000000  1.112500e+04  11125.000000   1.112500e+04   \n",
       "mean         3.933682  9.759884e+12    336.371955   1.793963e+04   \n",
       "std          0.352447  4.429361e+11    241.137539   1.124893e+05   \n",
       "min          0.000000  8.987060e+09      0.000000   0.000000e+00   \n",
       "25%          3.770000  9.780345e+12    192.000000   1.040000e+02   \n",
       "50%          3.960000  9.780586e+12    299.000000   7.450000e+02   \n",
       "75%          4.140000  9.780872e+12    416.000000   4.996000e+03   \n",
       "max          5.000000  9.790008e+12   6576.000000   4.597666e+06   \n",
       "\n",
       "       text_reviews_count  publication_date  \n",
       "count        11125.000000      11125.000000  \n",
       "mean           541.951371      36768.886472  \n",
       "std           2576.398051       2998.757830  \n",
       "min              0.000000       4750.000000  \n",
       "25%              9.000000      35992.000000  \n",
       "50%             47.000000      37681.000000  \n",
       "75%            238.000000      38625.000000  \n",
       "max          94265.000000      43921.000000  "
      ]
     },
     "execution_count": 18,
     "metadata": {},
     "output_type": "execute_result"
    }
   ],
   "source": [
    "df.describe()"
   ]
  },
  {
   "cell_type": "code",
   "execution_count": 19,
   "id": "814b9101",
   "metadata": {},
   "outputs": [
    {
     "data": {
      "text/plain": [
       "authors               0\n",
       "average_rating        0\n",
       "isbn13                0\n",
       "language_code         0\n",
       "num_page              0\n",
       "ratings_count         0\n",
       "text_reviews_count    0\n",
       "publication_date      0\n",
       "Publisher             0\n",
       "dtype: int64"
      ]
     },
     "execution_count": 19,
     "metadata": {},
     "output_type": "execute_result"
    }
   ],
   "source": [
    "df.isna().sum()"
   ]
  },
  {
   "cell_type": "code",
   "execution_count": 20,
   "id": "1c4d9ad6",
   "metadata": {},
   "outputs": [
    {
     "name": "stdout",
     "output_type": "stream",
     "text": [
      "Index(['authors', 'average_rating', 'isbn13', 'language_code', 'num_page',\n",
      "       'ratings_count', 'text_reviews_count', 'publication_date', 'Publisher'],\n",
      "      dtype='object')\n"
     ]
    }
   ],
   "source": [
    "print(df.columns)\n"
   ]
  },
  {
   "cell_type": "code",
   "execution_count": 11,
   "id": "98aa18e2",
   "metadata": {},
   "outputs": [
    {
     "data": {
      "text/plain": [
       "11125"
      ]
     },
     "execution_count": 11,
     "metadata": {},
     "output_type": "execute_result"
    }
   ],
   "source": [
    "len(df)"
   ]
  },
  {
   "cell_type": "code",
   "execution_count": 12,
   "id": "e3fbf755",
   "metadata": {},
   "outputs": [
    {
     "name": "stdout",
     "output_type": "stream",
     "text": [
      "Requirement already satisfied: category_encoders in c:\\users\\josiah\\anaconda3\\newanaconda\\lib\\site-packages (2.6.3)\n",
      "Requirement already satisfied: numpy>=1.14.0 in c:\\users\\josiah\\anaconda3\\newanaconda\\lib\\site-packages (from category_encoders) (1.24.3)\n",
      "Requirement already satisfied: scikit-learn>=0.20.0 in c:\\users\\josiah\\anaconda3\\newanaconda\\lib\\site-packages (from category_encoders) (1.3.0)\n",
      "Requirement already satisfied: scipy>=1.0.0 in c:\\users\\josiah\\anaconda3\\newanaconda\\lib\\site-packages (from category_encoders) (1.11.1)\n",
      "Requirement already satisfied: statsmodels>=0.9.0 in c:\\users\\josiah\\anaconda3\\newanaconda\\lib\\site-packages (from category_encoders) (0.14.0)\n",
      "Requirement already satisfied: pandas>=1.0.5 in c:\\users\\josiah\\anaconda3\\newanaconda\\lib\\site-packages (from category_encoders) (2.0.3)\n",
      "Requirement already satisfied: patsy>=0.5.1 in c:\\users\\josiah\\anaconda3\\newanaconda\\lib\\site-packages (from category_encoders) (0.5.3)\n",
      "Requirement already satisfied: python-dateutil>=2.8.2 in c:\\users\\josiah\\anaconda3\\newanaconda\\lib\\site-packages (from pandas>=1.0.5->category_encoders) (2.8.2)\n",
      "Requirement already satisfied: pytz>=2020.1 in c:\\users\\josiah\\anaconda3\\newanaconda\\lib\\site-packages (from pandas>=1.0.5->category_encoders) (2023.3.post1)\n",
      "Requirement already satisfied: tzdata>=2022.1 in c:\\users\\josiah\\anaconda3\\newanaconda\\lib\\site-packages (from pandas>=1.0.5->category_encoders) (2023.3)\n",
      "Requirement already satisfied: six in c:\\users\\josiah\\anaconda3\\newanaconda\\lib\\site-packages (from patsy>=0.5.1->category_encoders) (1.16.0)\n",
      "Requirement already satisfied: joblib>=1.1.1 in c:\\users\\josiah\\anaconda3\\newanaconda\\lib\\site-packages (from scikit-learn>=0.20.0->category_encoders) (1.2.0)\n",
      "Requirement already satisfied: threadpoolctl>=2.0.0 in c:\\users\\josiah\\anaconda3\\newanaconda\\lib\\site-packages (from scikit-learn>=0.20.0->category_encoders) (2.2.0)\n",
      "Requirement already satisfied: packaging>=21.3 in c:\\users\\josiah\\anaconda3\\newanaconda\\lib\\site-packages (from statsmodels>=0.9.0->category_encoders) (23.1)\n",
      "Note: you may need to restart the kernel to use updated packages.\n"
     ]
    }
   ],
   "source": [
    "pip install category_encoders"
   ]
  },
  {
   "cell_type": "code",
   "execution_count": 13,
   "id": "76417d8c",
   "metadata": {},
   "outputs": [],
   "source": [
    "# Select only the numeric columns\n",
    "numeric_cols = df.select_dtypes(include=['float64', 'int64']).columns\n",
    "\n"
   ]
  },
  {
   "cell_type": "code",
   "execution_count": 11,
   "id": "d7442863",
   "metadata": {},
   "outputs": [],
   "source": [
    "# Group by 'Publisher' and 'average_rating', then calculate the mean for numeric columns\n",
    "#df_grouped = df.groupby([\"Publisher\", \"average_rating\"])[numeric_cols].mean()\n",
    "\n",
    "\n"
   ]
  },
  {
   "cell_type": "code",
   "execution_count": 23,
   "id": "9a63daaf",
   "metadata": {},
   "outputs": [],
   "source": [
    "# Display the result\n",
    "#print(df_grouped)"
   ]
  },
  {
   "cell_type": "code",
   "execution_count": 24,
   "id": "c3bbcfa4",
   "metadata": {},
   "outputs": [],
   "source": [
    "# Step 1: Group by Publisher and calculate the mean of average_rating\n",
    "#publisher_avg_rating = df.groupby(\"Publisher\")[\"average_rating\"].mean()\n",
    "\n",
    "# Step 2: Map the mean average_rating back to the original DataFrame as a label encoding for Publisher\n",
    "#df[\"Publisher_Label\"] = df[\"Publisher\"].map(publisher_avg_rating)\n",
    "\n",
    "# Step 3: Display the DataFrame with the new Publisher_Label column\n",
    "#print(df.head())\n"
   ]
  },
  {
   "cell_type": "code",
   "execution_count": 21,
   "id": "f8105a3e",
   "metadata": {},
   "outputs": [
    {
     "name": "stdout",
     "output_type": "stream",
     "text": [
      "  language_code  Language_Label\n",
      "0         en-US               4\n",
      "1           eng               5\n",
      "2           eng               5\n",
      "3         en-GB               3\n",
      "4           eng               5\n"
     ]
    }
   ],
   "source": [
    "from sklearn.preprocessing import LabelEncoder\n",
    "\n",
    "# Step 1: Initialize the LabelEncoder\n",
    "label_encoder = LabelEncoder()\n",
    "\n",
    "# Step 2: Fit and transform the 'language' column\n",
    "df['Language_Label'] = label_encoder.fit_transform(df['language_code'])\n",
    "\n",
    "# Step 3: Display the DataFrame with the new Language_Label column\n",
    "print(df[['language_code', 'Language_Label']].head())\n"
   ]
  },
  {
   "cell_type": "code",
   "execution_count": 25,
   "id": "dfb579d7",
   "metadata": {},
   "outputs": [
    {
     "name": "stdout",
     "output_type": "stream",
     "text": [
      "                                                 authors  average_rating  \\\n",
      "0                                        Sam Bass Warner            3.58   \n",
      "1               David E. Smith (Turgon of TheOneRing.net            3.58   \n",
      "2                                           James Wesley            3.63   \n",
      "3                                       Robert M. Pirsig            3.58   \n",
      "4                                          George Orwell            4.18   \n",
      "...                                                  ...             ...   \n",
      "11120                                    Terry Pratchett            4.23   \n",
      "11121                                    Terry Pratchett            4.14   \n",
      "11122                        Sarah Fielding/Candace Ward            2.63   \n",
      "11123  Sherrilyn Kenyon/L.A. Banks/Susan Squires/Rond...            4.06   \n",
      "11124                      Leonardo da Vinci/Martin Kemp            4.17   \n",
      "\n",
      "              isbn13 language_code  num_page  ratings_count  \\\n",
      "0      9780674842113         en-US       236             61   \n",
      "1      9781593600112           eng       400             26   \n",
      "2      9781563841552           eng       342             38   \n",
      "3      9781403356208         en-GB       600             54   \n",
      "4      9781421808321           eng       387            215   \n",
      "...              ...           ...       ...            ...   \n",
      "11120  9780552154284           eng       432          60162   \n",
      "11121  9780061051586           eng       296          41899   \n",
      "11122  9781551114125           eng       242            132   \n",
      "11123  9780312349295           eng       373           7959   \n",
      "11124  9780300090956           eng       336            120   \n",
      "\n",
      "       text_reviews_count  publication_date                    Publisher  \\\n",
      "0                       6             38097     Harvard University Press   \n",
      "1                       4             38083            Cold Spring Press   \n",
      "2                       4             36175  Huntington House Publishers   \n",
      "3                       5             37635             1st Book Library   \n",
      "4                      17             38534            1st World Library   \n",
      "...                   ...               ...                          ...   \n",
      "11120                1373             38992                        Corgi   \n",
      "11121                 746             36411               Harper Voyager   \n",
      "11122                  18             38621          Broadview Press Inc   \n",
      "11123                 200             38993           St. Martin's Press   \n",
      "11124                   4             37114        Yale University Press   \n",
      "\n",
      "       Language_Label  \n",
      "0                   4  \n",
      "1                   5  \n",
      "2                   5  \n",
      "3                   3  \n",
      "4                   5  \n",
      "...               ...  \n",
      "11120               5  \n",
      "11121               5  \n",
      "11122               5  \n",
      "11123               5  \n",
      "11124               5  \n",
      "\n",
      "[11125 rows x 10 columns]\n"
     ]
    }
   ],
   "source": [
    "print(df)"
   ]
  },
  {
   "cell_type": "code",
   "execution_count": 26,
   "id": "1f703830",
   "metadata": {},
   "outputs": [
    {
     "name": "stdout",
     "output_type": "stream",
     "text": [
      "   authors_0  authors_1  authors_2  authors_3  authors_4  authors_5  \\\n",
      "0          0          0          0          0          0          0   \n",
      "1          0          0          0          0          0          0   \n",
      "2          0          0          0          0          0          0   \n",
      "3          0          0          0          0          0          0   \n",
      "4          0          0          0          0          0          0   \n",
      "\n",
      "   authors_6  authors_7  authors_8  authors_9  ...  authors_12  \\\n",
      "0          0          0          0          0  ...           1   \n",
      "1          0          0          0          0  ...           0   \n",
      "2          0          0          0          0  ...           1   \n",
      "3          0          0          0          0  ...           0   \n",
      "4          0          0          0          0  ...           1   \n",
      "\n",
      "   average_rating         isbn13  language_code  num_page ratings_count  \\\n",
      "0            3.58  9780674842113          en-US       236            61   \n",
      "1            3.58  9781593600112            eng       400            26   \n",
      "2            3.63  9781563841552            eng       342            38   \n",
      "3            3.58  9781403356208          en-GB       600            54   \n",
      "4            4.18  9781421808321            eng       387           215   \n",
      "\n",
      "   text_reviews_count  publication_date                    Publisher  \\\n",
      "0                   6             38097     Harvard University Press   \n",
      "1                   4             38083            Cold Spring Press   \n",
      "2                   4             36175  Huntington House Publishers   \n",
      "3                   5             37635             1st Book Library   \n",
      "4                  17             38534            1st World Library   \n",
      "\n",
      "   Language_Label  \n",
      "0               4  \n",
      "1               5  \n",
      "2               5  \n",
      "3               3  \n",
      "4               5  \n",
      "\n",
      "[5 rows x 22 columns]\n"
     ]
    }
   ],
   "source": [
    "import category_encoders as ce\n",
    "\n",
    "# Create a binary encoder object\n",
    "encoder = ce.BinaryEncoder(cols=['authors'])\n",
    "\n",
    "# Fit and transform the 'language_code' column\n",
    "df = encoder.fit_transform(df)\n",
    "\n",
    "\n",
    "print(df.head())"
   ]
  },
  {
   "cell_type": "code",
   "execution_count": 27,
   "id": "964eca55",
   "metadata": {},
   "outputs": [
    {
     "name": "stdout",
     "output_type": "stream",
     "text": [
      "   authors_0  authors_1  authors_2  authors_3  authors_4  authors_5  \\\n",
      "0          0          0          0          0          0          0   \n",
      "1          0          0          0          0          0          0   \n",
      "2          0          0          0          0          0          0   \n",
      "3          0          0          0          0          0          0   \n",
      "4          0          0          0          0          0          0   \n",
      "\n",
      "   authors_6  authors_7  authors_8  authors_9  ...  Publisher_2  Publisher_3  \\\n",
      "0          0          0          0          0  ...            0            0   \n",
      "1          0          0          0          0  ...            0            0   \n",
      "2          0          0          0          0  ...            0            0   \n",
      "3          0          0          0          0  ...            0            0   \n",
      "4          0          0          0          0  ...            0            0   \n",
      "\n",
      "   Publisher_4  Publisher_5  Publisher_6 Publisher_7  Publisher_8  \\\n",
      "0            0            0            0           0            0   \n",
      "1            0            0            0           0            0   \n",
      "2            0            0            0           0            0   \n",
      "3            0            0            0           0            1   \n",
      "4            0            0            0           0            1   \n",
      "\n",
      "   Publisher_9  Publisher_10  Language_Label  \n",
      "0            0             1               4  \n",
      "1            1             0               5  \n",
      "2            1             1               5  \n",
      "3            0             0               3  \n",
      "4            0             1               5  \n",
      "\n",
      "[5 rows x 32 columns]\n"
     ]
    }
   ],
   "source": [
    "import category_encoders as ce\n",
    "\n",
    "# Create a binary encoder object\n",
    "encoder = ce.BinaryEncoder(cols=['Publisher'])\n",
    "\n",
    "# Fit and transform the 'language_code' column\n",
    "df = encoder.fit_transform(df)\n",
    "\n",
    "\n",
    "print(df.head())"
   ]
  },
  {
   "cell_type": "code",
   "execution_count": 28,
   "id": "653615ab",
   "metadata": {},
   "outputs": [
    {
     "data": {
      "image/png": "[encoded data removed]",
      "text/plain": [
       "<Figure size 2000x1000 with 1 Axes>"
      ]
     },
     "metadata": {},
     "output_type": "display_data"
    }
   ],
   "source": [
    "plt.figure(figsize=(20,10))\n",
    "plt.scatter(df.average_rating,df.ratings_count)\n",
    "plt.title(\"average_rating vs ratings_count\")\n",
    "plt.xlabel(\"average_rating\")\n",
    "plt.ylabel(\"ratings_count\")\n",
    "plt.show()"
   ]
  },
  {
   "cell_type": "code",
   "execution_count": 29,
   "id": "6b169118",
   "metadata": {},
   "outputs": [
    {
     "ename": "AttributeError",
     "evalue": "'DataFrame' object has no attribute 'Publisher_Label'",
     "output_type": "error",
     "traceback": [
      "\u001b[1;31m---------------------------------------------------------------------------\u001b[0m",
      "\u001b[1;31mAttributeError\u001b[0m                            Traceback (most recent call last)",
      "\u001b[1;32m~\\AppData\\Local\\Temp\\ipykernel_11956\\1192524765.py\u001b[0m in \u001b[0;36m?\u001b[1;34m()\u001b[0m\n\u001b[0;32m      1\u001b[0m \u001b[0mplt\u001b[0m\u001b[1;33m.\u001b[0m\u001b[0mfigure\u001b[0m\u001b[1;33m(\u001b[0m\u001b[0mfigsize\u001b[0m\u001b[1;33m=\u001b[0m\u001b[1;33m(\u001b[0m\u001b[1;36m20\u001b[0m\u001b[1;33m,\u001b[0m\u001b[1;36m10\u001b[0m\u001b[1;33m)\u001b[0m\u001b[1;33m)\u001b[0m\u001b[1;33m\u001b[0m\u001b[1;33m\u001b[0m\u001b[0m\n\u001b[1;32m----> 2\u001b[1;33m \u001b[0mplt\u001b[0m\u001b[1;33m.\u001b[0m\u001b[0mscatter\u001b[0m\u001b[1;33m(\u001b[0m\u001b[0mdf\u001b[0m\u001b[1;33m.\u001b[0m\u001b[0maverage_rating\u001b[0m\u001b[1;33m,\u001b[0m\u001b[0mdf\u001b[0m\u001b[1;33m.\u001b[0m\u001b[0mPublisher_Label\u001b[0m\u001b[1;33m)\u001b[0m\u001b[1;33m\u001b[0m\u001b[1;33m\u001b[0m\u001b[0m\n\u001b[0m\u001b[0;32m      3\u001b[0m \u001b[0mplt\u001b[0m\u001b[1;33m.\u001b[0m\u001b[0mtitle\u001b[0m\u001b[1;33m(\u001b[0m\u001b[1;34m\"average_rating vs Publisher_Label\"\u001b[0m\u001b[1;33m)\u001b[0m\u001b[1;33m\u001b[0m\u001b[1;33m\u001b[0m\u001b[0m\n\u001b[0;32m      4\u001b[0m \u001b[0mplt\u001b[0m\u001b[1;33m.\u001b[0m\u001b[0mxlabel\u001b[0m\u001b[1;33m(\u001b[0m\u001b[1;34m\"average_rating\"\u001b[0m\u001b[1;33m)\u001b[0m\u001b[1;33m\u001b[0m\u001b[1;33m\u001b[0m\u001b[0m\n\u001b[0;32m      5\u001b[0m \u001b[0mplt\u001b[0m\u001b[1;33m.\u001b[0m\u001b[0mylabel\u001b[0m\u001b[1;33m(\u001b[0m\u001b[1;34m\"Publisher_Label\"\u001b[0m\u001b[1;33m)\u001b[0m\u001b[1;33m\u001b[0m\u001b[1;33m\u001b[0m\u001b[0m\n",
      "\u001b[1;32m~\\anaconda3\\Newanaconda\\Lib\\site-packages\\pandas\\core\\generic.py\u001b[0m in \u001b[0;36m?\u001b[1;34m(self, name)\u001b[0m\n\u001b[0;32m   5985\u001b[0m             \u001b[1;32mand\u001b[0m \u001b[0mname\u001b[0m \u001b[1;32mnot\u001b[0m \u001b[1;32min\u001b[0m \u001b[0mself\u001b[0m\u001b[1;33m.\u001b[0m\u001b[0m_accessors\u001b[0m\u001b[1;33m\u001b[0m\u001b[1;33m\u001b[0m\u001b[0m\n\u001b[0;32m   5986\u001b[0m             \u001b[1;32mand\u001b[0m \u001b[0mself\u001b[0m\u001b[1;33m.\u001b[0m\u001b[0m_info_axis\u001b[0m\u001b[1;33m.\u001b[0m\u001b[0m_can_hold_identifiers_and_holds_name\u001b[0m\u001b[1;33m(\u001b[0m\u001b[0mname\u001b[0m\u001b[1;33m)\u001b[0m\u001b[1;33m\u001b[0m\u001b[1;33m\u001b[0m\u001b[0m\n\u001b[0;32m   5987\u001b[0m         ):\n\u001b[0;32m   5988\u001b[0m             \u001b[1;32mreturn\u001b[0m \u001b[0mself\u001b[0m\u001b[1;33m[\u001b[0m\u001b[0mname\u001b[0m\u001b[1;33m]\u001b[0m\u001b[1;33m\u001b[0m\u001b[1;33m\u001b[0m\u001b[0m\n\u001b[1;32m-> 5989\u001b[1;33m         \u001b[1;32mreturn\u001b[0m \u001b[0mobject\u001b[0m\u001b[1;33m.\u001b[0m\u001b[0m__getattribute__\u001b[0m\u001b[1;33m(\u001b[0m\u001b[0mself\u001b[0m\u001b[1;33m,\u001b[0m \u001b[0mname\u001b[0m\u001b[1;33m)\u001b[0m\u001b[1;33m\u001b[0m\u001b[1;33m\u001b[0m\u001b[0m\n\u001b[0m",
      "\u001b[1;31mAttributeError\u001b[0m: 'DataFrame' object has no attribute 'Publisher_Label'"
     ]
    },
    {
     "data": {
      "text/plain": [
       "<Figure size 2000x1000 with 0 Axes>"
      ]
     },
     "metadata": {},
     "output_type": "display_data"
    }
   ],
   "source": [
    "plt.figure(figsize=(20,10))\n",
    "plt.scatter(df.average_rating,df.Publisher_Label)\n",
    "plt.title(\"average_rating vs Publisher_Label\")\n",
    "plt.xlabel(\"average_rating\")\n",
    "plt.ylabel(\"Publisher_Label\")\n",
    "plt.show()"
   ]
  },
  {
   "cell_type": "code",
   "execution_count": 30,
   "id": "8549af16",
   "metadata": {},
   "outputs": [
    {
     "data": {
      "image/png": "[encoded data removed]",
      "text/plain": [
       "<Figure size 640x480 with 1 Axes>"
      ]
     },
     "metadata": {},
     "output_type": "display_data"
    }
   ],
   "source": [
    "plt.bar(x=df.publication_date.value_counts().index,height=df.publication_date.value_counts(10))\n",
    "plt.show()"
   ]
  },
  {
   "cell_type": "code",
   "execution_count": 31,
   "id": "312eda85",
   "metadata": {
    "scrolled": true
   },
   "outputs": [
    {
     "name": "stderr",
     "output_type": "stream",
     "text": [
      "C:\\Users\\Josiah\\anaconda3\\Newanaconda\\Lib\\site-packages\\seaborn\\axisgrid.py:118: UserWarning: The figure layout has changed to tight\n",
      "  self._figure.tight_layout(*args, **kwargs)\n"
     ]
    },
    {
     "data": {
      "text/plain": [
       "<seaborn.axisgrid.FacetGrid at 0x12ed245a610>"
      ]
     },
     "execution_count": 31,
     "metadata": {},
     "output_type": "execute_result"
    },
    {
     "data": {
      "image/png": "[encoded data removed]",
      "text/plain": [
       "<Figure size 500x500 with 1 Axes>"
      ]
     },
     "metadata": {},
     "output_type": "display_data"
    }
   ],
   "source": [
    "sns.displot(df.num_page)"
   ]
  },
  {
   "cell_type": "code",
   "execution_count": 32,
   "id": "aa501fb5",
   "metadata": {},
   "outputs": [
    {
     "data": {
      "image/png": "[encoded data removed]",
      "text/plain": [
       "<Figure size 2000x1000 with 1 Axes>"
      ]
     },
     "metadata": {},
     "output_type": "display_data"
    }
   ],
   "source": [
    "plt.figure(figsize=(20,10))\n",
    "sns.boxplot(x=df.average_rating,y=df.ratings_count)\n",
    "plt.show()"
   ]
  },
  {
   "cell_type": "code",
   "execution_count": 33,
   "id": "6702e9de",
   "metadata": {},
   "outputs": [
    {
     "data": {
      "image/png": "[encoded data removed]",
      "text/plain": [
       "<Figure size 640x480 with 1 Axes>"
      ]
     },
     "metadata": {},
     "output_type": "display_data"
    }
   ],
   "source": [
    "sns.histplot(x=\"average_rating\",hue=\"Language_Label\",multiple=\"stack\",data=df)\n",
    "plt.show(50)"
   ]
  },
  {
   "cell_type": "code",
   "execution_count": 35,
   "id": "b2b7c8c9",
   "metadata": {},
   "outputs": [],
   "source": [
    "df_processed = df.drop(columns=[\"language_code\"])"
   ]
  },
  {
   "cell_type": "code",
   "execution_count": 36,
   "id": "54bdef14",
   "metadata": {},
   "outputs": [
    {
     "name": "stdout",
     "output_type": "stream",
     "text": [
      "       authors_0  authors_1  authors_2  authors_3  authors_4  authors_5  \\\n",
      "0              0          0          0          0          0          0   \n",
      "1              0          0          0          0          0          0   \n",
      "2              0          0          0          0          0          0   \n",
      "3              0          0          0          0          0          0   \n",
      "4              0          0          0          0          0          0   \n",
      "...          ...        ...        ...        ...        ...        ...   \n",
      "11120          0          0          1          0          0          1   \n",
      "11121          0          0          1          0          0          1   \n",
      "11122          1          0          0          0          0          1   \n",
      "11123          1          0          0          0          0          1   \n",
      "11124          1          0          0          0          0          1   \n",
      "\n",
      "       authors_6  authors_7  authors_8  authors_9  ...  Publisher_2  \\\n",
      "0              0          0          0          0  ...            0   \n",
      "1              0          0          0          0  ...            0   \n",
      "2              0          0          0          0  ...            0   \n",
      "3              0          0          0          0  ...            0   \n",
      "4              0          0          0          0  ...            0   \n",
      "...          ...        ...        ...        ...  ...          ...   \n",
      "11120          0          1          1          1  ...            1   \n",
      "11121          0          1          1          1  ...            1   \n",
      "11122          0          0          0          1  ...            1   \n",
      "11123          0          0          0          1  ...            1   \n",
      "11124          0          0          0          1  ...            1   \n",
      "\n",
      "       Publisher_3  Publisher_4  Publisher_5  Publisher_6  Publisher_7  \\\n",
      "0                0            0            0            0            0   \n",
      "1                0            0            0            0            0   \n",
      "2                0            0            0            0            0   \n",
      "3                0            0            0            0            0   \n",
      "4                0            0            0            0            0   \n",
      "...            ...          ...          ...          ...          ...   \n",
      "11120            1            1            1            1            0   \n",
      "11121            1            1            1            1            0   \n",
      "11122            1            1            1            1            0   \n",
      "11123            1            1            1            1            1   \n",
      "11124            1            1            0            1            0   \n",
      "\n",
      "       Publisher_8  Publisher_9  Publisher_10  Language_Label  \n",
      "0                0            0             1               4  \n",
      "1                0            1             0               5  \n",
      "2                0            1             1               5  \n",
      "3                1            0             0               3  \n",
      "4                1            0             1               5  \n",
      "...            ...          ...           ...             ...  \n",
      "11120            1            1             0               5  \n",
      "11121            1            0             0               5  \n",
      "11122            1            1             1               5  \n",
      "11123            0            0             0               5  \n",
      "11124            1            1             1               5  \n",
      "\n",
      "[11125 rows x 31 columns]\n"
     ]
    }
   ],
   "source": [
    "print(df_processed)"
   ]
  },
  {
   "cell_type": "code",
   "execution_count": 37,
   "id": "92935a26",
   "metadata": {},
   "outputs": [],
   "source": [
    "from sklearn.model_selection import train_test_split"
   ]
  },
  {
   "cell_type": "code",
   "execution_count": 38,
   "id": "7abc23e1",
   "metadata": {},
   "outputs": [],
   "source": [
    "df_train, df_test = train_test_split(df_processed,test_size = 0.3)"
   ]
  },
  {
   "cell_type": "code",
   "execution_count": 39,
   "id": "97788b0e",
   "metadata": {},
   "outputs": [
    {
     "data": {
      "text/plain": [
       "11125"
      ]
     },
     "execution_count": 39,
     "metadata": {},
     "output_type": "execute_result"
    }
   ],
   "source": [
    "len(df_processed)"
   ]
  },
  {
   "cell_type": "code",
   "execution_count": 40,
   "id": "4da24dcf",
   "metadata": {},
   "outputs": [
    {
     "data": {
      "text/plain": [
       "7787"
      ]
     },
     "execution_count": 40,
     "metadata": {},
     "output_type": "execute_result"
    }
   ],
   "source": [
    "len(df_train)"
   ]
  },
  {
   "cell_type": "code",
   "execution_count": 41,
   "id": "0974fe74",
   "metadata": {},
   "outputs": [
    {
     "data": {
      "text/plain": [
       "3338"
      ]
     },
     "execution_count": 41,
     "metadata": {},
     "output_type": "execute_result"
    }
   ],
   "source": [
    "len(df_test)"
   ]
  },
  {
   "cell_type": "code",
   "execution_count": 42,
   "id": "918f4a4d",
   "metadata": {},
   "outputs": [
    {
     "data": {
      "text/html": [
       "<div>\n",
       "<style scoped>\n",
       "    .dataframe tbody tr th:only-of-type {\n",
       "        vertical-align: middle;\n",
       "    }\n",
       "\n",
       "    .dataframe tbody tr th {\n",
       "        vertical-align: top;\n",
       "    }\n",
       "\n",
       "    .dataframe thead th {\n",
       "        text-align: right;\n",
       "    }\n",
       "</style>\n",
       "<table border=\"1\" class=\"dataframe\">\n",
       "  <thead>\n",
       "    <tr style=\"text-align: right;\">\n",
       "      <th></th>\n",
       "      <th>authors_0</th>\n",
       "      <th>authors_1</th>\n",
       "      <th>authors_2</th>\n",
       "      <th>authors_3</th>\n",
       "      <th>authors_4</th>\n",
       "      <th>authors_5</th>\n",
       "      <th>authors_6</th>\n",
       "      <th>authors_7</th>\n",
       "      <th>authors_8</th>\n",
       "      <th>authors_9</th>\n",
       "      <th>...</th>\n",
       "      <th>Publisher_2</th>\n",
       "      <th>Publisher_3</th>\n",
       "      <th>Publisher_4</th>\n",
       "      <th>Publisher_5</th>\n",
       "      <th>Publisher_6</th>\n",
       "      <th>Publisher_7</th>\n",
       "      <th>Publisher_8</th>\n",
       "      <th>Publisher_9</th>\n",
       "      <th>Publisher_10</th>\n",
       "      <th>Language_Label</th>\n",
       "    </tr>\n",
       "  </thead>\n",
       "  <tbody>\n",
       "    <tr>\n",
       "      <th>501</th>\n",
       "      <td>0</td>\n",
       "      <td>0</td>\n",
       "      <td>0</td>\n",
       "      <td>0</td>\n",
       "      <td>1</td>\n",
       "      <td>0</td>\n",
       "      <td>0</td>\n",
       "      <td>1</td>\n",
       "      <td>1</td>\n",
       "      <td>1</td>\n",
       "      <td>...</td>\n",
       "      <td>0</td>\n",
       "      <td>0</td>\n",
       "      <td>1</td>\n",
       "      <td>1</td>\n",
       "      <td>0</td>\n",
       "      <td>0</td>\n",
       "      <td>1</td>\n",
       "      <td>0</td>\n",
       "      <td>1</td>\n",
       "      <td>5</td>\n",
       "    </tr>\n",
       "    <tr>\n",
       "      <th>6649</th>\n",
       "      <td>0</td>\n",
       "      <td>1</td>\n",
       "      <td>0</td>\n",
       "      <td>1</td>\n",
       "      <td>0</td>\n",
       "      <td>0</td>\n",
       "      <td>0</td>\n",
       "      <td>0</td>\n",
       "      <td>1</td>\n",
       "      <td>1</td>\n",
       "      <td>...</td>\n",
       "      <td>1</td>\n",
       "      <td>1</td>\n",
       "      <td>1</td>\n",
       "      <td>1</td>\n",
       "      <td>1</td>\n",
       "      <td>0</td>\n",
       "      <td>0</td>\n",
       "      <td>0</td>\n",
       "      <td>0</td>\n",
       "      <td>5</td>\n",
       "    </tr>\n",
       "    <tr>\n",
       "      <th>9037</th>\n",
       "      <td>0</td>\n",
       "      <td>0</td>\n",
       "      <td>1</td>\n",
       "      <td>1</td>\n",
       "      <td>1</td>\n",
       "      <td>1</td>\n",
       "      <td>0</td>\n",
       "      <td>0</td>\n",
       "      <td>1</td>\n",
       "      <td>0</td>\n",
       "      <td>...</td>\n",
       "      <td>0</td>\n",
       "      <td>1</td>\n",
       "      <td>1</td>\n",
       "      <td>0</td>\n",
       "      <td>1</td>\n",
       "      <td>1</td>\n",
       "      <td>0</td>\n",
       "      <td>0</td>\n",
       "      <td>0</td>\n",
       "      <td>5</td>\n",
       "    </tr>\n",
       "    <tr>\n",
       "      <th>7527</th>\n",
       "      <td>0</td>\n",
       "      <td>1</td>\n",
       "      <td>1</td>\n",
       "      <td>0</td>\n",
       "      <td>0</td>\n",
       "      <td>0</td>\n",
       "      <td>0</td>\n",
       "      <td>0</td>\n",
       "      <td>1</td>\n",
       "      <td>0</td>\n",
       "      <td>...</td>\n",
       "      <td>0</td>\n",
       "      <td>0</td>\n",
       "      <td>0</td>\n",
       "      <td>0</td>\n",
       "      <td>1</td>\n",
       "      <td>1</td>\n",
       "      <td>0</td>\n",
       "      <td>1</td>\n",
       "      <td>0</td>\n",
       "      <td>5</td>\n",
       "    </tr>\n",
       "    <tr>\n",
       "      <th>10551</th>\n",
       "      <td>0</td>\n",
       "      <td>1</td>\n",
       "      <td>1</td>\n",
       "      <td>1</td>\n",
       "      <td>1</td>\n",
       "      <td>1</td>\n",
       "      <td>0</td>\n",
       "      <td>1</td>\n",
       "      <td>1</td>\n",
       "      <td>0</td>\n",
       "      <td>...</td>\n",
       "      <td>1</td>\n",
       "      <td>1</td>\n",
       "      <td>0</td>\n",
       "      <td>0</td>\n",
       "      <td>1</td>\n",
       "      <td>1</td>\n",
       "      <td>1</td>\n",
       "      <td>1</td>\n",
       "      <td>1</td>\n",
       "      <td>5</td>\n",
       "    </tr>\n",
       "    <tr>\n",
       "      <th>...</th>\n",
       "      <td>...</td>\n",
       "      <td>...</td>\n",
       "      <td>...</td>\n",
       "      <td>...</td>\n",
       "      <td>...</td>\n",
       "      <td>...</td>\n",
       "      <td>...</td>\n",
       "      <td>...</td>\n",
       "      <td>...</td>\n",
       "      <td>...</td>\n",
       "      <td>...</td>\n",
       "      <td>...</td>\n",
       "      <td>...</td>\n",
       "      <td>...</td>\n",
       "      <td>...</td>\n",
       "      <td>...</td>\n",
       "      <td>...</td>\n",
       "      <td>...</td>\n",
       "      <td>...</td>\n",
       "      <td>...</td>\n",
       "      <td>...</td>\n",
       "    </tr>\n",
       "    <tr>\n",
       "      <th>9567</th>\n",
       "      <td>0</td>\n",
       "      <td>1</td>\n",
       "      <td>1</td>\n",
       "      <td>1</td>\n",
       "      <td>0</td>\n",
       "      <td>1</td>\n",
       "      <td>1</td>\n",
       "      <td>0</td>\n",
       "      <td>1</td>\n",
       "      <td>0</td>\n",
       "      <td>...</td>\n",
       "      <td>1</td>\n",
       "      <td>0</td>\n",
       "      <td>1</td>\n",
       "      <td>0</td>\n",
       "      <td>1</td>\n",
       "      <td>0</td>\n",
       "      <td>0</td>\n",
       "      <td>0</td>\n",
       "      <td>1</td>\n",
       "      <td>5</td>\n",
       "    </tr>\n",
       "    <tr>\n",
       "      <th>11042</th>\n",
       "      <td>0</td>\n",
       "      <td>0</td>\n",
       "      <td>0</td>\n",
       "      <td>1</td>\n",
       "      <td>1</td>\n",
       "      <td>0</td>\n",
       "      <td>1</td>\n",
       "      <td>1</td>\n",
       "      <td>0</td>\n",
       "      <td>0</td>\n",
       "      <td>...</td>\n",
       "      <td>1</td>\n",
       "      <td>1</td>\n",
       "      <td>1</td>\n",
       "      <td>1</td>\n",
       "      <td>0</td>\n",
       "      <td>0</td>\n",
       "      <td>0</td>\n",
       "      <td>0</td>\n",
       "      <td>1</td>\n",
       "      <td>5</td>\n",
       "    </tr>\n",
       "    <tr>\n",
       "      <th>5555</th>\n",
       "      <td>0</td>\n",
       "      <td>1</td>\n",
       "      <td>0</td>\n",
       "      <td>0</td>\n",
       "      <td>1</td>\n",
       "      <td>1</td>\n",
       "      <td>1</td>\n",
       "      <td>0</td>\n",
       "      <td>1</td>\n",
       "      <td>0</td>\n",
       "      <td>...</td>\n",
       "      <td>1</td>\n",
       "      <td>0</td>\n",
       "      <td>0</td>\n",
       "      <td>1</td>\n",
       "      <td>1</td>\n",
       "      <td>0</td>\n",
       "      <td>1</td>\n",
       "      <td>0</td>\n",
       "      <td>1</td>\n",
       "      <td>4</td>\n",
       "    </tr>\n",
       "    <tr>\n",
       "      <th>1463</th>\n",
       "      <td>0</td>\n",
       "      <td>0</td>\n",
       "      <td>0</td>\n",
       "      <td>1</td>\n",
       "      <td>1</td>\n",
       "      <td>0</td>\n",
       "      <td>0</td>\n",
       "      <td>1</td>\n",
       "      <td>0</td>\n",
       "      <td>0</td>\n",
       "      <td>...</td>\n",
       "      <td>0</td>\n",
       "      <td>1</td>\n",
       "      <td>0</td>\n",
       "      <td>1</td>\n",
       "      <td>1</td>\n",
       "      <td>0</td>\n",
       "      <td>1</td>\n",
       "      <td>0</td>\n",
       "      <td>1</td>\n",
       "      <td>5</td>\n",
       "    </tr>\n",
       "    <tr>\n",
       "      <th>5418</th>\n",
       "      <td>0</td>\n",
       "      <td>1</td>\n",
       "      <td>0</td>\n",
       "      <td>0</td>\n",
       "      <td>1</td>\n",
       "      <td>1</td>\n",
       "      <td>0</td>\n",
       "      <td>0</td>\n",
       "      <td>1</td>\n",
       "      <td>1</td>\n",
       "      <td>...</td>\n",
       "      <td>1</td>\n",
       "      <td>0</td>\n",
       "      <td>0</td>\n",
       "      <td>0</td>\n",
       "      <td>1</td>\n",
       "      <td>0</td>\n",
       "      <td>0</td>\n",
       "      <td>0</td>\n",
       "      <td>0</td>\n",
       "      <td>5</td>\n",
       "    </tr>\n",
       "  </tbody>\n",
       "</table>\n",
       "<p>7787 rows × 31 columns</p>\n",
       "</div>"
      ],
      "text/plain": [
       "       authors_0  authors_1  authors_2  authors_3  authors_4  authors_5  \\\n",
       "501            0          0          0          0          1          0   \n",
       "6649           0          1          0          1          0          0   \n",
       "9037           0          0          1          1          1          1   \n",
       "7527           0          1          1          0          0          0   \n",
       "10551          0          1          1          1          1          1   \n",
       "...          ...        ...        ...        ...        ...        ...   \n",
       "9567           0          1          1          1          0          1   \n",
       "11042          0          0          0          1          1          0   \n",
       "5555           0          1          0          0          1          1   \n",
       "1463           0          0          0          1          1          0   \n",
       "5418           0          1          0          0          1          1   \n",
       "\n",
       "       authors_6  authors_7  authors_8  authors_9  ...  Publisher_2  \\\n",
       "501            0          1          1          1  ...            0   \n",
       "6649           0          0          1          1  ...            1   \n",
       "9037           0          0          1          0  ...            0   \n",
       "7527           0          0          1          0  ...            0   \n",
       "10551          0          1          1          0  ...            1   \n",
       "...          ...        ...        ...        ...  ...          ...   \n",
       "9567           1          0          1          0  ...            1   \n",
       "11042          1          1          0          0  ...            1   \n",
       "5555           1          0          1          0  ...            1   \n",
       "1463           0          1          0          0  ...            0   \n",
       "5418           0          0          1          1  ...            1   \n",
       "\n",
       "       Publisher_3  Publisher_4  Publisher_5  Publisher_6  Publisher_7  \\\n",
       "501              0            1            1            0            0   \n",
       "6649             1            1            1            1            0   \n",
       "9037             1            1            0            1            1   \n",
       "7527             0            0            0            1            1   \n",
       "10551            1            0            0            1            1   \n",
       "...            ...          ...          ...          ...          ...   \n",
       "9567             0            1            0            1            0   \n",
       "11042            1            1            1            0            0   \n",
       "5555             0            0            1            1            0   \n",
       "1463             1            0            1            1            0   \n",
       "5418             0            0            0            1            0   \n",
       "\n",
       "       Publisher_8  Publisher_9  Publisher_10  Language_Label  \n",
       "501              1            0             1               5  \n",
       "6649             0            0             0               5  \n",
       "9037             0            0             0               5  \n",
       "7527             0            1             0               5  \n",
       "10551            1            1             1               5  \n",
       "...            ...          ...           ...             ...  \n",
       "9567             0            0             1               5  \n",
       "11042            0            0             1               5  \n",
       "5555             1            0             1               4  \n",
       "1463             1            0             1               5  \n",
       "5418             0            0             0               5  \n",
       "\n",
       "[7787 rows x 31 columns]"
      ]
     },
     "execution_count": 42,
     "metadata": {},
     "output_type": "execute_result"
    }
   ],
   "source": [
    "df_train"
   ]
  },
  {
   "cell_type": "code",
   "execution_count": 43,
   "id": "ba1a237c",
   "metadata": {},
   "outputs": [
    {
     "name": "stdout",
     "output_type": "stream",
     "text": [
      "3.933681797752809\n",
      "3.9324939000898937\n",
      "3.936452965847813\n"
     ]
    }
   ],
   "source": [
    "print(df_processed.average_rating.mean())\n",
    "print(df_train.average_rating.mean())\n",
    "print(df_test.average_rating.mean())"
   ]
  },
  {
   "cell_type": "code",
   "execution_count": 44,
   "id": "ab2eb3d8",
   "metadata": {},
   "outputs": [
    {
     "name": "stdout",
     "output_type": "stream",
     "text": [
      "17939.62804494382\n",
      "17673.75754462566\n",
      "18559.8597962852\n"
     ]
    }
   ],
   "source": [
    "print(df_processed.ratings_count.mean())\n",
    "print(df_train.ratings_count.mean())\n",
    "print(df_test.ratings_count.mean())"
   ]
  },
  {
   "cell_type": "code",
   "execution_count": 45,
   "id": "821b9393",
   "metadata": {},
   "outputs": [
    {
     "data": {
      "text/plain": [
       "Index(['authors_0', 'authors_1', 'authors_2', 'authors_3', 'authors_4',\n",
       "       'authors_5', 'authors_6', 'authors_7', 'authors_8', 'authors_9',\n",
       "       'authors_10', 'authors_11', 'authors_12', 'average_rating', 'isbn13',\n",
       "       'num_page', 'ratings_count', 'text_reviews_count', 'publication_date',\n",
       "       'Publisher_0', 'Publisher_1', 'Publisher_2', 'Publisher_3',\n",
       "       'Publisher_4', 'Publisher_5', 'Publisher_6', 'Publisher_7',\n",
       "       'Publisher_8', 'Publisher_9', 'Publisher_10', 'Language_Label'],\n",
       "      dtype='object')"
      ]
     },
     "execution_count": 45,
     "metadata": {},
     "output_type": "execute_result"
    }
   ],
   "source": [
    "df_train.columns"
   ]
  },
  {
   "cell_type": "code",
   "execution_count": 46,
   "id": "8410c279",
   "metadata": {},
   "outputs": [],
   "source": [
    "from sklearn.model_selection import train_test_split\n",
    "from sklearn.linear_model import LinearRegression\n",
    "from sklearn.metrics import mean_squared_error, r2_score"
   ]
  },
  {
   "cell_type": "code",
   "execution_count": 49,
   "id": "48e10c6b",
   "metadata": {},
   "outputs": [],
   "source": [
    "# get the values of the columns for the training data\n",
    "X_train = df_train.loc[:,['authors_0', 'authors_1', 'authors_2', 'authors_3', 'authors_4',\n",
    "       'authors_5', 'authors_6', 'authors_7', 'authors_8', 'authors_9',\n",
    "       'authors_10', 'authors_11', 'authors_12', 'isbn13',\n",
    "       'num_page', 'ratings_count', 'text_reviews_count', 'publication_date',\n",
    "       'Publisher_0', 'Publisher_1', 'Publisher_2', 'Publisher_3',\n",
    "       'Publisher_4', 'Publisher_5', 'Publisher_6', 'Publisher_7',\n",
    "       'Publisher_8', 'Publisher_9', 'Publisher_10', 'Language_Label']].values\n",
    "y_train = df_train.average_rating.values"
   ]
  },
  {
   "cell_type": "code",
   "execution_count": 53,
   "id": "eab34e15",
   "metadata": {},
   "outputs": [],
   "source": [
    "X_test = df_test.loc[:,['authors_0', 'authors_1', 'authors_2', 'authors_3', 'authors_4',\n",
    "       'authors_5', 'authors_6', 'authors_7', 'authors_8', 'authors_9',\n",
    "       'authors_10', 'authors_11', 'authors_12', 'isbn13',\n",
    "       'num_page', 'ratings_count', 'text_reviews_count', 'publication_date',\n",
    "       'Publisher_0', 'Publisher_1', 'Publisher_2', 'Publisher_3',\n",
    "       'Publisher_4', 'Publisher_5', 'Publisher_6', 'Publisher_7',\n",
    "       'Publisher_8', 'Publisher_9', 'Publisher_10', 'Language_Label']].values\n",
    "y_test = df_test.average_rating.values"
   ]
  },
  {
   "cell_type": "code",
   "execution_count": 54,
   "id": "4a8ade23",
   "metadata": {},
   "outputs": [
    {
     "data": {
      "text/html": [
       "<style>#sk-container-id-2 {color: black;}#sk-container-id-2 pre{padding: 0;}#sk-container-id-2 div.sk-toggleable {background-color: white;}#sk-container-id-2 label.sk-toggleable__label {cursor: pointer;display: block;width: 100%;margin-bottom: 0;padding: 0.3em;box-sizing: border-box;text-align: center;}#sk-container-id-2 label.sk-toggleable__label-arrow:before {content: \"▸\";float: left;margin-right: 0.25em;color: #696969;}#sk-container-id-2 label.sk-toggleable__label-arrow:hover:before {color: black;}#sk-container-id-2 div.sk-estimator:hover label.sk-toggleable__label-arrow:before {color: black;}#sk-container-id-2 div.sk-toggleable__content {max-height: 0;max-width: 0;overflow: hidden;text-align: left;background-color: #f0f8ff;}#sk-container-id-2 div.sk-toggleable__content pre {margin: 0.2em;color: black;border-radius: 0.25em;background-color: #f0f8ff;}#sk-container-id-2 input.sk-toggleable__control:checked~div.sk-toggleable__content {max-height: 200px;max-width: 100%;overflow: auto;}#sk-container-id-2 input.sk-toggleable__control:checked~label.sk-toggleable__label-arrow:before {content: \"▾\";}#sk-container-id-2 div.sk-estimator input.sk-toggleable__control:checked~label.sk-toggleable__label {background-color: #d4ebff;}#sk-container-id-2 div.sk-label input.sk-toggleable__control:checked~label.sk-toggleable__label {background-color: #d4ebff;}#sk-container-id-2 input.sk-hidden--visually {border: 0;clip: rect(1px 1px 1px 1px);clip: rect(1px, 1px, 1px, 1px);height: 1px;margin: -1px;overflow: hidden;padding: 0;position: absolute;width: 1px;}#sk-container-id-2 div.sk-estimator {font-family: monospace;background-color: #f0f8ff;border: 1px dotted black;border-radius: 0.25em;box-sizing: border-box;margin-bottom: 0.5em;}#sk-container-id-2 div.sk-estimator:hover {background-color: #d4ebff;}#sk-container-id-2 div.sk-parallel-item::after {content: \"\";width: 100%;border-bottom: 1px solid gray;flex-grow: 1;}#sk-container-id-2 div.sk-label:hover label.sk-toggleable__label {background-color: #d4ebff;}#sk-container-id-2 div.sk-serial::before {content: \"\";position: absolute;border-left: 1px solid gray;box-sizing: border-box;top: 0;bottom: 0;left: 50%;z-index: 0;}#sk-container-id-2 div.sk-serial {display: flex;flex-direction: column;align-items: center;background-color: white;padding-right: 0.2em;padding-left: 0.2em;position: relative;}#sk-container-id-2 div.sk-item {position: relative;z-index: 1;}#sk-container-id-2 div.sk-parallel {display: flex;align-items: stretch;justify-content: center;background-color: white;position: relative;}#sk-container-id-2 div.sk-item::before, #sk-container-id-2 div.sk-parallel-item::before {content: \"\";position: absolute;border-left: 1px solid gray;box-sizing: border-box;top: 0;bottom: 0;left: 50%;z-index: -1;}#sk-container-id-2 div.sk-parallel-item {display: flex;flex-direction: column;z-index: 1;position: relative;background-color: white;}#sk-container-id-2 div.sk-parallel-item:first-child::after {align-self: flex-end;width: 50%;}#sk-container-id-2 div.sk-parallel-item:last-child::after {align-self: flex-start;width: 50%;}#sk-container-id-2 div.sk-parallel-item:only-child::after {width: 0;}#sk-container-id-2 div.sk-dashed-wrapped {border: 1px dashed gray;margin: 0 0.4em 0.5em 0.4em;box-sizing: border-box;padding-bottom: 0.4em;background-color: white;}#sk-container-id-2 div.sk-label label {font-family: monospace;font-weight: bold;display: inline-block;line-height: 1.2em;}#sk-container-id-2 div.sk-label-container {text-align: center;}#sk-container-id-2 div.sk-container {/* jupyter's `normalize.less` sets `[hidden] { display: none; }` but bootstrap.min.css set `[hidden] { display: none !important; }` so we also need the `!important` here to be able to override the default hidden behavior on the sphinx rendered scikit-learn.org. See: https://github.com/scikit-learn/scikit-learn/issues/21755 */display: inline-block !important;position: relative;}#sk-container-id-2 div.sk-text-repr-fallback {display: none;}</style><div id=\"sk-container-id-2\" class=\"sk-top-container\"><div class=\"sk-text-repr-fallback\"><pre>LinearRegression()</pre><b>In a Jupyter environment, please rerun this cell to show the HTML representation or trust the notebook. <br />On GitHub, the HTML representation is unable to render, please try loading this page with nbviewer.org.</b></div><div class=\"sk-container\" hidden><div class=\"sk-item\"><div class=\"sk-estimator sk-toggleable\"><input class=\"sk-toggleable__control sk-hidden--visually\" id=\"sk-estimator-id-2\" type=\"checkbox\" checked><label for=\"sk-estimator-id-2\" class=\"sk-toggleable__label sk-toggleable__label-arrow\">LinearRegression</label><div class=\"sk-toggleable__content\"><pre>LinearRegression()</pre></div></div></div></div></div>"
      ],
      "text/plain": [
       "LinearRegression()"
      ]
     },
     "execution_count": 54,
     "metadata": {},
     "output_type": "execute_result"
    }
   ],
   "source": [
    "model = LinearRegression()\n",
    "model.fit(X_train, y_train)\n"
   ]
  },
  {
   "cell_type": "code",
   "execution_count": 55,
   "id": "43ac9753",
   "metadata": {},
   "outputs": [],
   "source": [
    "y_pred = model.predict(X_test)"
   ]
  },
  {
   "cell_type": "code",
   "execution_count": 56,
   "id": "4c7a78a9",
   "metadata": {},
   "outputs": [],
   "source": [
    "mse = mean_squared_error(y_test, y_pred)\n",
    "r2 = r2_score(y_test, y_pred)"
   ]
  },
  {
   "cell_type": "code",
   "execution_count": 57,
   "id": "931705a2",
   "metadata": {},
   "outputs": [
    {
     "name": "stdout",
     "output_type": "stream",
     "text": [
      "Mean Squared Error (MSE): 0.12731499801776267\n",
      "R-squared (R2 Score): 0.022405671319813858\n",
      "Intercept: 4.078178005676656\n",
      "Coefficients: [-2.37601538e-02 -3.12663462e-03 -1.88852592e-02 -4.77682567e-03\n",
      " -1.20341555e-02 -8.48252664e-03  1.66619801e-02 -1.73155431e-02\n",
      "  7.93196459e-03 -5.90750721e-03  1.96776840e-02  2.04660350e-02\n",
      "  6.29510685e-03 -1.17728805e-14  2.03160666e-04  9.83831045e-08\n",
      " -1.87842734e-07 -3.79484463e-06  6.05918295e-03  2.69758694e-03\n",
      "  1.20338866e-02  8.75888518e-03 -2.63965865e-03 -1.70730180e-02\n",
      "  2.23630979e-03 -1.34541529e-02  3.96902360e-03 -1.18001332e-03\n",
      "  1.51024534e-02  4.73439104e-03]\n"
     ]
    }
   ],
   "source": [
    "print(f\"Mean Squared Error (MSE): {mse}\")\n",
    "print(f\"R-squared (R2 Score): {r2}\")\n",
    "\n",
    "# Optional: Displaying the coefficients\n",
    "print(f\"Intercept: {model.intercept_}\")\n",
    "print(f\"Coefficients: {model.coef_}\")"
   ]
  },
  {
   "cell_type": "code",
   "execution_count": 58,
   "id": "f1eb46a8",
   "metadata": {},
   "outputs": [
    {
     "name": "stdout",
     "output_type": "stream",
     "text": [
      "Variance score: 0.022405671319813858\n"
     ]
    }
   ],
   "source": [
    "# variance score: 1 means perfect prediction\n",
    "print('Variance score: {}'.format(model.score(X_test, y_test)))"
   ]
  },
  {
   "cell_type": "code",
   "execution_count": 47,
   "id": "42845b04",
   "metadata": {},
   "outputs": [
    {
     "name": "stdout",
     "output_type": "stream",
     "text": [
      "Training Precision: 0.7338624338624339\n",
      "Training Recall: 0.40331491712707185\n",
      "Test Precision: 0.7533252720677146\n",
      "Test Recall: 0.41122112211221123\n"
     ]
    }
   ],
   "source": [
    "from sklearn.metrics import precision_score, recall_score\n",
    "\n",
    "# Define a threshold\n",
    "threshold = 4\n",
    "\n",
    "# Convert regression predictions and true values to binary classification\n",
    "y_train_pred = model.predict(X_train)\n",
    "y_train_binary = (y_train >= threshold).astype(int)\n",
    "y_train_pred_binary = (y_train_pred >= threshold).astype(int)\n",
    "\n",
    "y_test_pred = model.predict(X_test)\n",
    "y_test_binary = (y_test >= threshold).astype(int)\n",
    "y_test_pred_binary = (y_test_pred >= threshold).astype(int)\n",
    "\n",
    "# Calculate precision and recall\n",
    "precision_train = precision_score(y_train_binary, y_train_pred_binary)\n",
    "recall_train = recall_score(y_train_binary, y_train_pred_binary)\n",
    "\n",
    "precision_test = precision_score(y_test_binary, y_test_pred_binary)\n",
    "recall_test = recall_score(y_test_binary, y_test_pred_binary)\n",
    "\n",
    "print(f\"Training Precision: {precision_train}\")\n",
    "print(f\"Training Recall: {recall_train}\")\n",
    "print(f\"Test Precision: {precision_test}\")\n",
    "print(f\"Test Recall: {recall_test}\")\n"
   ]
  },
  {
   "cell_type": "code",
   "execution_count": 59,
   "id": "cfb3a08e",
   "metadata": {},
   "outputs": [
    {
     "name": "stdout",
     "output_type": "stream",
     "text": [
      "Random Forest - Mean Squared Error (MSE): 0.11508310725284604\n",
      "Random Forest - R-squared (R2 Score): 0.11632883219634871\n"
     ]
    }
   ],
   "source": [
    "# 1. Import necessary libraries\n",
    "from sklearn.ensemble import RandomForestRegressor\n",
    "from sklearn.metrics import mean_squared_error, r2_score\n",
    "\n",
    "# 2. Initialize the Random Forest Regressor\n",
    "rf_model = RandomForestRegressor(n_estimators=100, random_state=42)\n",
    "\n",
    "# 3. Fit the model to the training data\n",
    "rf_model.fit(X_train, y_train)\n",
    "\n",
    "# 4. Make predictions on the test data\n",
    "y_pred_rf = rf_model.predict(X_test)\n",
    "\n",
    "# 5. Evaluate the model\n",
    "mse_rf = mean_squared_error(y_test, y_pred_rf)\n",
    "r2_rf = r2_score(y_test, y_pred_rf)\n",
    "\n",
    "print(f\"Random Forest - Mean Squared Error (MSE): {mse_rf}\")\n",
    "print(f\"Random Forest - R-squared (R2 Score): {r2_rf}\")\n"
   ]
  },
  {
   "cell_type": "code",
   "execution_count": 60,
   "id": "22373812",
   "metadata": {},
   "outputs": [
    {
     "name": "stdout",
     "output_type": "stream",
     "text": [
      "Fitting 5 folds for each of 108 candidates, totalling 540 fits\n",
      "Best parameters: {'max_depth': None, 'min_samples_leaf': 4, 'min_samples_split': 2, 'n_estimators': 300}\n",
      "Best Random Forest - Mean Squared Error (MSE): 0.11258058967261997\n",
      "Best Random Forest - R-squared (R2 Score): 0.13554453366076025\n"
     ]
    }
   ],
   "source": [
    "from sklearn.model_selection import GridSearchCV\n",
    "\n",
    "# Define the parameter grid for tuning\n",
    "param_grid = {\n",
    "    'n_estimators': [100, 200, 300],\n",
    "    'max_depth': [10, 20, 30, None],\n",
    "    'min_samples_split': [2, 5, 10],\n",
    "    'min_samples_leaf': [1, 2, 4]\n",
    "}\n",
    "\n",
    "# Initialize the Random Forest Regressor\n",
    "rf_model = RandomForestRegressor(random_state=42)\n",
    "\n",
    "# Perform Grid Search with 5-fold cross-validation\n",
    "grid_search = GridSearchCV(estimator=rf_model, param_grid=param_grid, \n",
    "                           cv=5, n_jobs=-1, verbose=2, scoring='neg_mean_squared_error')\n",
    "\n",
    "# Fit the model\n",
    "grid_search.fit(X_train, y_train)\n",
    "\n",
    "# Print best parameters\n",
    "print(f\"Best parameters: {grid_search.best_params_}\")\n",
    "\n",
    "# Get the best estimator\n",
    "best_rf_model = grid_search.best_estimator_\n",
    "\n",
    "# Make predictions using the best model\n",
    "y_pred_best_rf = best_rf_model.predict(X_test)\n",
    "\n",
    "# Evaluate the tuned model\n",
    "mse_best_rf = mean_squared_error(y_test, y_pred_best_rf)\n",
    "r2_best_rf = r2_score(y_test, y_pred_best_rf)\n",
    "\n",
    "print(f\"Best Random Forest - Mean Squared Error (MSE): {mse_best_rf}\")\n",
    "print(f\"Best Random Forest - R-squared (R2 Score): {r2_best_rf}\")\n"
   ]
  },
  {
   "cell_type": "code",
   "execution_count": null,
   "id": "32715500",
   "metadata": {},
   "outputs": [],
   "source": [
    "import matplotlib.pyplot as plt\n",
    "import seaborn as sns\n",
    "\n",
    "# Get feature importances from the best model\n",
    "feature_importances = best_rf_model.feature_importances_\n",
    "\n",
    "# Create a DataFrame for better visualization\n",
    "importances_df = pd.DataFrame({\n",
    "    'Feature': X_train.columns,\n",
    "    'Importance': feature_importances\n",
    "})\n",
    "\n",
    "# Sort features by importance\n",
    "importances_df = importances_df.sort_values(by='Importance', ascending=False)\n",
    "\n",
    "# Plot the feature importances\n",
    "plt.figure(figsize=(10, 6))\n",
    "sns.barplot(x='Importance', y='Feature', data=importances_df)\n",
    "plt.title('Feature Importances from the Best Random Forest Model')\n",
    "plt.show()\n"
   ]
  },
  {
   "cell_type": "code",
   "execution_count": null,
   "id": "8e12f2bf",
   "metadata": {},
   "outputs": [],
   "source": []
  }
 ],
 "metadata": {
  "kernelspec": {
   "display_name": "Python 3 (ipykernel)",
   "language": "python",
   "name": "python3"
  },
  "language_info": {
   "codemirror_mode": {
    "name": "ipython",
    "version": 3
   },
   "file_extension": ".py",
   "mimetype": "text/x-python",
   "name": "python",
   "nbconvert_exporter": "python",
   "pygments_lexer": "ipython3",
   "version": "3.11.5"
  }
 },
 "nbformat": 4,
 "nbformat_minor": 5
}
